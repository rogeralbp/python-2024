{
  "nbformat": 4,
  "nbformat_minor": 0,
  "metadata": {
    "colab": {
      "provenance": [],
      "include_colab_link": true
    },
    "kernelspec": {
      "name": "python3",
      "display_name": "Python 3"
    }
  },
  "cells": [
    {
      "cell_type": "markdown",
      "metadata": {
        "id": "view-in-github",
        "colab_type": "text"
      },
      "source": [
        "<a href=\"https://colab.research.google.com/github/rogeralbp/python-2024/blob/main/Tema00_Roger.ipynb\" target=\"_parent\"><img src=\"https://colab.research.google.com/assets/colab-badge.svg\" alt=\"Open In Colab\"/></a>"
      ]
    },
    {
      "cell_type": "markdown",
      "source": [
        "## Hola rogercito, welcome to this, lets unblock your pottencial!"
      ],
      "metadata": {
        "id": "_kJGbx_1hEEy"
      }
    },
    {
      "cell_type": "markdown",
      "metadata": {
        "id": "9LqdYr4h3SqJ"
      },
      "source": [
        "# Antes de empezar"
      ]
    },
    {
      "cell_type": "markdown",
      "metadata": {
        "id": "ebSYX-S7VnY_"
      },
      "source": [
        "## Materiales del curso\n",
        "\n",
        "En este curso vamos a utilizar **Google Colaboratory**.\n",
        "\n",
        "Necesitarás:\n",
        "\n",
        "- Cuenta con acceso a Google Drive\n",
        "- Descargar la aplicación Colaboratory de Google Drive"
      ]
    },
    {
      "cell_type": "markdown",
      "metadata": {
        "id": "IsaIeq4vZBSM"
      },
      "source": [
        "# Funcionamiento de Google Colaboratory"
      ]
    },
    {
      "cell_type": "code",
      "metadata": {
        "id": "IVFFaGXaZFCs",
        "colab": {
          "base_uri": "https://localhost:8080/"
        },
        "outputId": "9749968d-7d3b-48a0-ad93-8b5374c83621"
      },
      "source": [
        "# Esto es un comentario en un bloque de código\n",
        "22 + 22"
      ],
      "execution_count": null,
      "outputs": [
        {
          "output_type": "execute_result",
          "data": {
            "text/plain": [
              "44"
            ]
          },
          "metadata": {},
          "execution_count": 2
        }
      ]
    },
    {
      "cell_type": "markdown",
      "metadata": {
        "id": "IaHGbOrNY1yu"
      },
      "source": [
        "Esto es un bloque de Texto\n",
        "\n",
        "# Esto es un Título 1 #AAA\n",
        "\n",
        "## Esto es un Título 2 ##AA\n",
        "\n",
        "### Esto es un Título 3 ###AAA\n",
        "\n",
        "#### Esto es un Título 4 ####AAA\n",
        "\n",
        "**Texto en negrita** \\*\\*AAA**\n",
        "\n",
        "*Texto en cursiva* \\*AAA*\n",
        "\n",
        "- Elemento 1 de una lista no numerada\n",
        "- Elemento 2 de una lista no numerada\n",
        "- Elemento 3 de una lista no numerada\n",
        "\n",
        "1. Elemento 1 de una lista numerada\n",
        "    \n",
        "    1.1. Elemento 1.1. de una lista numerada\n",
        "      \n",
        "    1.2. Elemento 1.2. de una lista numerada\n",
        "2. Elemento 2 de una lista numerada\n",
        "    \n",
        "    a. Apartado a)\n",
        "\n",
        "    b. Apartado b)\n",
        "3. Elemento 3 de una lista numerada\n",
        "\n",
        "  Nuevo párrafo dentro del tercer elemento de una lista numerada\n",
        "\n",
        "\n",
        "Para insertar un enlace: [texto del enlace](link del enlace)\n",
        "\n",
        "Para insertar una imagen: ![texto de imagen](link de imagen)\n",
        "\n",
        "---\n",
        "\n",
        "Fórmula matemática dentro de línea: $2 + 2 = 4$\n",
        "\n",
        "Fórmula matemática centrada en línea aparte: $$2 + 2 = 4$$\n"
      ]
    }
  ]
}